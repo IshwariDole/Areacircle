{
  "nbformat": 4,
  "nbformat_minor": 0,
  "metadata": {
    "colab": {
      "provenance": [],
      "authorship_tag": "ABX9TyO4bxPvfoQHS142PfmJEp2u",
      "include_colab_link": true
    },
    "kernelspec": {
      "name": "python3",
      "display_name": "Python 3"
    },
    "language_info": {
      "name": "python"
    }
  },
  "cells": [
    {
      "cell_type": "markdown",
      "metadata": {
        "id": "view-in-github",
        "colab_type": "text"
      },
      "source": [
        "<a href=\"https://colab.research.google.com/github/IshwariDole/Areacircle/blob/main/exp1.ipynb\" target=\"_parent\"><img src=\"https://colab.research.google.com/assets/colab-badge.svg\" alt=\"Open In Colab\"/></a>"
      ]
    },
    {
      "cell_type": "code",
      "execution_count": 2,
      "metadata": {
        "id": "pvq_bXGGXOod",
        "colab": {
          "base_uri": "https://localhost:8080/"
        },
        "outputId": "94a9b2b6-fce0-4898-e392-933eaf494a36"
      },
      "outputs": [
        {
          "output_type": "stream",
          "name": "stdout",
          "text": [
            "254.34\n"
          ]
        }
      ],
      "source": [
        "r=9\n",
        "area=3.14*r*r\n",
        "print(area)"
      ]
    },
    {
      "cell_type": "code",
      "source": [
        "r=int(input(\"enter the radius of circle\"))\n",
        "area=3.14*r**2\n",
        "print(\"area of circle is:\",area)"
      ],
      "metadata": {
        "colab": {
          "base_uri": "https://localhost:8080/"
        },
        "id": "3ZvoEsoya9qy",
        "outputId": "b4cfdfe9-269b-4d55-84af-69edb2788b96"
      },
      "execution_count": 4,
      "outputs": [
        {
          "output_type": "stream",
          "name": "stdout",
          "text": [
            "enter the radius of circle5\n",
            "area of circle is:  78.5\n"
          ]
        }
      ]
    },
    {
      "cell_type": "markdown",
      "source": [
        "area of circle."
      ],
      "metadata": {
        "id": "MshtfKyAaDTk"
      }
    }
  ]
}